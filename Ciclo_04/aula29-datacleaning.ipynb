{
 "cells": [
  {
   "cell_type": "code",
   "execution_count": 1,
   "id": "d82083af-f80b-4543-bdda-236059ed3dcb",
   "metadata": {},
   "outputs": [],
   "source": [
    "import pandas as pd\n",
    "df = pd.read_csv(\"train.csv\")"
   ]
  },
  {
   "cell_type": "code",
   "execution_count": 2,
   "id": "a5b4eba4-b441-4a08-9df5-a064e537197c",
   "metadata": {},
   "outputs": [],
   "source": [
    "df1 = df.copy()"
   ]
  },
  {
   "cell_type": "code",
   "execution_count": 3,
   "id": "d709e012-06c8-4c26-98a7-e448b9447a3c",
   "metadata": {},
   "outputs": [
    {
     "data": {
      "text/html": [
       "<div>\n",
       "<style scoped>\n",
       "    .dataframe tbody tr th:only-of-type {\n",
       "        vertical-align: middle;\n",
       "    }\n",
       "\n",
       "    .dataframe tbody tr th {\n",
       "        vertical-align: top;\n",
       "    }\n",
       "\n",
       "    .dataframe thead th {\n",
       "        text-align: right;\n",
       "    }\n",
       "</style>\n",
       "<table border=\"1\" class=\"dataframe\">\n",
       "  <thead>\n",
       "    <tr style=\"text-align: right;\">\n",
       "      <th></th>\n",
       "      <th>ID</th>\n",
       "      <th>Delivery_person_ID</th>\n",
       "      <th>Delivery_person_Age</th>\n",
       "      <th>Delivery_person_Ratings</th>\n",
       "      <th>Restaurant_latitude</th>\n",
       "      <th>Restaurant_longitude</th>\n",
       "      <th>Delivery_location_latitude</th>\n",
       "      <th>Delivery_location_longitude</th>\n",
       "      <th>Order_Date</th>\n",
       "      <th>Time_Orderd</th>\n",
       "      <th>Time_Order_picked</th>\n",
       "      <th>Weatherconditions</th>\n",
       "      <th>Road_traffic_density</th>\n",
       "      <th>Vehicle_condition</th>\n",
       "      <th>Type_of_order</th>\n",
       "      <th>Type_of_vehicle</th>\n",
       "      <th>multiple_deliveries</th>\n",
       "      <th>Festival</th>\n",
       "      <th>City</th>\n",
       "      <th>Time_taken(min)</th>\n",
       "    </tr>\n",
       "  </thead>\n",
       "  <tbody>\n",
       "    <tr>\n",
       "      <th>0</th>\n",
       "      <td>0x4607</td>\n",
       "      <td>INDORES13DEL02</td>\n",
       "      <td>37</td>\n",
       "      <td>4.9</td>\n",
       "      <td>22.745049</td>\n",
       "      <td>75.892471</td>\n",
       "      <td>22.765049</td>\n",
       "      <td>75.912471</td>\n",
       "      <td>19-03-2022</td>\n",
       "      <td>11:30:00</td>\n",
       "      <td>11:45:00</td>\n",
       "      <td>conditions Sunny</td>\n",
       "      <td>High</td>\n",
       "      <td>2</td>\n",
       "      <td>Snack</td>\n",
       "      <td>motorcycle</td>\n",
       "      <td>0</td>\n",
       "      <td>No</td>\n",
       "      <td>Urban</td>\n",
       "      <td>(min) 24</td>\n",
       "    </tr>\n",
       "    <tr>\n",
       "      <th>1</th>\n",
       "      <td>0xb379</td>\n",
       "      <td>BANGRES18DEL02</td>\n",
       "      <td>34</td>\n",
       "      <td>4.5</td>\n",
       "      <td>12.913041</td>\n",
       "      <td>77.683237</td>\n",
       "      <td>13.043041</td>\n",
       "      <td>77.813237</td>\n",
       "      <td>25-03-2022</td>\n",
       "      <td>19:45:00</td>\n",
       "      <td>19:50:00</td>\n",
       "      <td>conditions Stormy</td>\n",
       "      <td>Jam</td>\n",
       "      <td>2</td>\n",
       "      <td>Snack</td>\n",
       "      <td>scooter</td>\n",
       "      <td>1</td>\n",
       "      <td>No</td>\n",
       "      <td>Metropolitian</td>\n",
       "      <td>(min) 33</td>\n",
       "    </tr>\n",
       "    <tr>\n",
       "      <th>2</th>\n",
       "      <td>0x5d6d</td>\n",
       "      <td>BANGRES19DEL01</td>\n",
       "      <td>23</td>\n",
       "      <td>4.4</td>\n",
       "      <td>12.914264</td>\n",
       "      <td>77.678400</td>\n",
       "      <td>12.924264</td>\n",
       "      <td>77.688400</td>\n",
       "      <td>19-03-2022</td>\n",
       "      <td>08:30:00</td>\n",
       "      <td>08:45:00</td>\n",
       "      <td>conditions Sandstorms</td>\n",
       "      <td>Low</td>\n",
       "      <td>0</td>\n",
       "      <td>Drinks</td>\n",
       "      <td>motorcycle</td>\n",
       "      <td>1</td>\n",
       "      <td>No</td>\n",
       "      <td>Urban</td>\n",
       "      <td>(min) 26</td>\n",
       "    </tr>\n",
       "    <tr>\n",
       "      <th>3</th>\n",
       "      <td>0x7a6a</td>\n",
       "      <td>COIMBRES13DEL02</td>\n",
       "      <td>38</td>\n",
       "      <td>4.7</td>\n",
       "      <td>11.003669</td>\n",
       "      <td>76.976494</td>\n",
       "      <td>11.053669</td>\n",
       "      <td>77.026494</td>\n",
       "      <td>05-04-2022</td>\n",
       "      <td>18:00:00</td>\n",
       "      <td>18:10:00</td>\n",
       "      <td>conditions Sunny</td>\n",
       "      <td>Medium</td>\n",
       "      <td>0</td>\n",
       "      <td>Buffet</td>\n",
       "      <td>motorcycle</td>\n",
       "      <td>1</td>\n",
       "      <td>No</td>\n",
       "      <td>Metropolitian</td>\n",
       "      <td>(min) 21</td>\n",
       "    </tr>\n",
       "    <tr>\n",
       "      <th>4</th>\n",
       "      <td>0x70a2</td>\n",
       "      <td>CHENRES12DEL01</td>\n",
       "      <td>32</td>\n",
       "      <td>4.6</td>\n",
       "      <td>12.972793</td>\n",
       "      <td>80.249982</td>\n",
       "      <td>13.012793</td>\n",
       "      <td>80.289982</td>\n",
       "      <td>26-03-2022</td>\n",
       "      <td>13:30:00</td>\n",
       "      <td>13:45:00</td>\n",
       "      <td>conditions Cloudy</td>\n",
       "      <td>High</td>\n",
       "      <td>1</td>\n",
       "      <td>Snack</td>\n",
       "      <td>scooter</td>\n",
       "      <td>1</td>\n",
       "      <td>No</td>\n",
       "      <td>Metropolitian</td>\n",
       "      <td>(min) 30</td>\n",
       "    </tr>\n",
       "  </tbody>\n",
       "</table>\n",
       "</div>"
      ],
      "text/plain": [
       "        ID Delivery_person_ID Delivery_person_Age Delivery_person_Ratings  \\\n",
       "0  0x4607     INDORES13DEL02                   37                     4.9   \n",
       "1  0xb379     BANGRES18DEL02                   34                     4.5   \n",
       "2  0x5d6d     BANGRES19DEL01                   23                     4.4   \n",
       "3  0x7a6a    COIMBRES13DEL02                   38                     4.7   \n",
       "4  0x70a2     CHENRES12DEL01                   32                     4.6   \n",
       "\n",
       "   Restaurant_latitude  Restaurant_longitude  Delivery_location_latitude  \\\n",
       "0            22.745049             75.892471                   22.765049   \n",
       "1            12.913041             77.683237                   13.043041   \n",
       "2            12.914264             77.678400                   12.924264   \n",
       "3            11.003669             76.976494                   11.053669   \n",
       "4            12.972793             80.249982                   13.012793   \n",
       "\n",
       "   Delivery_location_longitude  Order_Date Time_Orderd Time_Order_picked  \\\n",
       "0                    75.912471  19-03-2022    11:30:00          11:45:00   \n",
       "1                    77.813237  25-03-2022    19:45:00          19:50:00   \n",
       "2                    77.688400  19-03-2022    08:30:00          08:45:00   \n",
       "3                    77.026494  05-04-2022    18:00:00          18:10:00   \n",
       "4                    80.289982  26-03-2022    13:30:00          13:45:00   \n",
       "\n",
       "       Weatherconditions Road_traffic_density  Vehicle_condition  \\\n",
       "0       conditions Sunny                High                   2   \n",
       "1      conditions Stormy                 Jam                   2   \n",
       "2  conditions Sandstorms                 Low                   0   \n",
       "3       conditions Sunny              Medium                   0   \n",
       "4      conditions Cloudy                High                   1   \n",
       "\n",
       "  Type_of_order Type_of_vehicle multiple_deliveries Festival            City  \\\n",
       "0        Snack      motorcycle                    0      No           Urban    \n",
       "1        Snack         scooter                    1      No   Metropolitian    \n",
       "2       Drinks      motorcycle                    1      No           Urban    \n",
       "3       Buffet      motorcycle                    1      No   Metropolitian    \n",
       "4        Snack         scooter                    1      No   Metropolitian    \n",
       "\n",
       "  Time_taken(min)  \n",
       "0        (min) 24  \n",
       "1        (min) 33  \n",
       "2        (min) 26  \n",
       "3        (min) 21  \n",
       "4        (min) 30  "
      ]
     },
     "execution_count": 3,
     "metadata": {},
     "output_type": "execute_result"
    }
   ],
   "source": [
    "df1.head()"
   ]
  },
  {
   "cell_type": "code",
   "execution_count": 4,
   "id": "63e1b891-4c21-4a55-b663-f6d930c746a8",
   "metadata": {},
   "outputs": [
    {
     "data": {
      "text/plain": [
       "ID                              object\n",
       "Delivery_person_ID              object\n",
       "Delivery_person_Age             object\n",
       "Delivery_person_Ratings         object\n",
       "Restaurant_latitude            float64\n",
       "Restaurant_longitude           float64\n",
       "Delivery_location_latitude     float64\n",
       "Delivery_location_longitude    float64\n",
       "Order_Date                      object\n",
       "Time_Orderd                     object\n",
       "Time_Order_picked               object\n",
       "Weatherconditions               object\n",
       "Road_traffic_density            object\n",
       "Vehicle_condition                int64\n",
       "Type_of_order                   object\n",
       "Type_of_vehicle                 object\n",
       "multiple_deliveries             object\n",
       "Festival                        object\n",
       "City                            object\n",
       "Time_taken(min)                 object\n",
       "dtype: object"
      ]
     },
     "execution_count": 4,
     "metadata": {},
     "output_type": "execute_result"
    }
   ],
   "source": [
    "df1.dtypes"
   ]
  },
  {
   "cell_type": "code",
   "execution_count": 5,
   "id": "9c92b74e-6df3-41ba-b777-378b76b2a018",
   "metadata": {},
   "outputs": [],
   "source": [
    "# convertendo Delivery_person_Age para int\n",
    "linhas_selecionadas = df1['Delivery_person_Age'] != 'NaN '\n",
    "df1 = df1.loc[linhas_selecionadas, :].copy()\n",
    "df1['Delivery_person_Age'] = df1['Delivery_person_Age'].astype(int)\n",
    "\n",
    "# convertendo Delivery_person_Ratings para float\n",
    "df1['Delivery_person_Ratings'] = df1['Delivery_person_Ratings'].astype(float)\n",
    "\n",
    "# convertendo Order_Date para datetime\n",
    "df1['Order_Date'] = pd.to_datetime(df1['Order_Date'], format=('%d-%m-%Y'))\n",
    "\n",
    "# convertendo multiple_deliveries para int\n",
    "linhas_selecionadas = df1['multiple_deliveries'] != 'NaN '\n",
    "df1 = df1.loc[linhas_selecionadas, :].copy()\n",
    "df1['multiple_deliveries'] = df1['multiple_deliveries'].astype(int)\n",
    "\n",
    "# removendo espacos dentro de strings\n",
    "df1 = df1.reset_index(drop=True)\n",
    "for i in range(len(df1)):\n",
    "    df1.loc[i, 'ID'] = df1.loc[i, 'ID'].strip()"
   ]
  },
  {
   "cell_type": "markdown",
   "id": "b8c6c2af-79b1-4af2-af60-9bbebcd10e6d",
   "metadata": {},
   "source": [
    "# Exercicios"
   ]
  },
  {
   "cell_type": "markdown",
   "id": "841e25f6-7025-4315-b026-d18a63cd5ff8",
   "metadata": {},
   "source": [
    "1. Qual o número total de entregas cadastrados na base de dados?\n"
   ]
  },
  {
   "cell_type": "code",
   "execution_count": 6,
   "id": "9b87d1c6-3141-4776-bcd7-ef262c6e40a3",
   "metadata": {},
   "outputs": [
    {
     "data": {
      "text/plain": [
       "(42805, 20)"
      ]
     },
     "execution_count": 6,
     "metadata": {},
     "output_type": "execute_result"
    }
   ],
   "source": [
    "df1.shape"
   ]
  },
  {
   "cell_type": "markdown",
   "id": "0827613b-ebb2-42e9-b482-53a8778d769f",
   "metadata": {},
   "source": [
    "2. Qual o número total de entregadores únicos cadastrados na base de dados?\n"
   ]
  },
  {
   "cell_type": "code",
   "execution_count": 7,
   "id": "788bbd3a-4d45-47ad-8aa6-edcfddd6b257",
   "metadata": {},
   "outputs": [
    {
     "data": {
      "text/plain": [
       "(1320,)"
      ]
     },
     "execution_count": 7,
     "metadata": {},
     "output_type": "execute_result"
    }
   ],
   "source": [
    "df1['Delivery_person_ID'].unique().shape"
   ]
  },
  {
   "cell_type": "code",
   "execution_count": 8,
   "id": "bbfb68a1-972d-4ecb-ae99-7eea1560e0ad",
   "metadata": {},
   "outputs": [
    {
     "data": {
      "text/plain": [
       "1320"
      ]
     },
     "execution_count": 8,
     "metadata": {},
     "output_type": "execute_result"
    }
   ],
   "source": [
    "df1['Delivery_person_ID'].nunique()"
   ]
  },
  {
   "cell_type": "markdown",
   "id": "954e6f96-bfdb-4031-ba76-50a7086c0f15",
   "metadata": {},
   "source": [
    "3. Qual a idade do entregador mais velho? E do mais novo?\n"
   ]
  },
  {
   "cell_type": "code",
   "execution_count": 9,
   "id": "bba14943-4cb6-4bf5-9880-029c6b098a0a",
   "metadata": {},
   "outputs": [
    {
     "name": "stdout",
     "output_type": "stream",
     "text": [
      "15\n",
      "50\n"
     ]
    }
   ],
   "source": [
    "print(df1['Delivery_person_Age'].min())\n",
    "print(df1['Delivery_person_Age'].max())"
   ]
  },
  {
   "cell_type": "code",
   "execution_count": 10,
   "id": "2e1e45d3-0797-4a4b-acee-e06491ca93ab",
   "metadata": {},
   "outputs": [
    {
     "data": {
      "text/plain": [
       "30024    15\n",
       "10457    15\n",
       "2236     15\n",
       "14981    15\n",
       "10241    15\n",
       "         ..\n",
       "35699    50\n",
       "13257    50\n",
       "18245    50\n",
       "4842     50\n",
       "20079    50\n",
       "Name: Delivery_person_Age, Length: 42805, dtype: int64"
      ]
     },
     "execution_count": 10,
     "metadata": {},
     "output_type": "execute_result"
    }
   ],
   "source": [
    "df1['Delivery_person_Age'].sort_values()"
   ]
  },
  {
   "cell_type": "markdown",
   "id": "e281d6c6-1d4f-4f37-abc1-b3993fce2693",
   "metadata": {},
   "source": [
    "4. Qual o ID do entregador com a maior idade? E o ID do entregaor com a\n",
    "menor idade?\n"
   ]
  },
  {
   "cell_type": "code",
   "execution_count": 11,
   "id": "7d27be0d-11d8-4655-a4e2-4e358b543d14",
   "metadata": {},
   "outputs": [
    {
     "data": {
      "text/plain": [
       "30024    15\n",
       "10457    15\n",
       "2236     15\n",
       "14981    15\n",
       "10241    15\n",
       "         ..\n",
       "35699    50\n",
       "13257    50\n",
       "18245    50\n",
       "4842     50\n",
       "20079    50\n",
       "Name: Delivery_person_Age, Length: 42805, dtype: int64"
      ]
     },
     "execution_count": 11,
     "metadata": {},
     "output_type": "execute_result"
    }
   ],
   "source": [
    "df1['Delivery_person_Age'].sort_values()"
   ]
  },
  {
   "cell_type": "code",
   "execution_count": 12,
   "id": "fc239217-b476-4a16-b98e-20983fd7a7bb",
   "metadata": {},
   "outputs": [
    {
     "name": "stdout",
     "output_type": "stream",
     "text": [
      "Delivery_person_ID     HYDRES06DEL01 \n",
      "Delivery_person_Age                50\n",
      "Name: 20079, dtype: object\n",
      "Delivery_person_ID     PUNERES05DEL02 \n",
      "Delivery_person_Age                 15\n",
      "Name: 30024, dtype: object\n"
     ]
    }
   ],
   "source": [
    "print(df1.loc[20079, ['Delivery_person_ID', 'Delivery_person_Age']])\n",
    "print(df1.loc[30024, ['Delivery_person_ID', 'Delivery_person_Age']])"
   ]
  },
  {
   "cell_type": "markdown",
   "id": "60093913-414c-443d-987a-3924dbf9cabc",
   "metadata": {},
   "source": [
    "5. Quais os nomes das condições climáticas?\n"
   ]
  },
  {
   "cell_type": "code",
   "execution_count": 13,
   "id": "a5bc9993-af6c-41f7-827c-51b3c7b872db",
   "metadata": {},
   "outputs": [
    {
     "data": {
      "text/plain": [
       "array(['conditions Sunny', 'conditions Stormy', 'conditions Sandstorms',\n",
       "       'conditions Cloudy', 'conditions Fog', 'conditions Windy',\n",
       "       'conditions NaN'], dtype=object)"
      ]
     },
     "execution_count": 13,
     "metadata": {},
     "output_type": "execute_result"
    }
   ],
   "source": [
    "df1['Weatherconditions'].unique()"
   ]
  },
  {
   "cell_type": "markdown",
   "id": "3b4206d3-6ad7-4196-a3db-a531cc8b3c6d",
   "metadata": {},
   "source": [
    "6. Quantas entregas foram realizadas sob condições climáticas de tempestade\n",
    "de areia? ( Sandstorms )\n"
   ]
  },
  {
   "cell_type": "code",
   "execution_count": 14,
   "id": "a80709b1-a8f1-4053-94c1-e694e6aebb63",
   "metadata": {},
   "outputs": [
    {
     "data": {
      "text/plain": [
       "(7083, 20)"
      ]
     },
     "execution_count": 14,
     "metadata": {},
     "output_type": "execute_result"
    }
   ],
   "source": [
    "areia = df1['Weatherconditions'] == 'conditions Sandstorms'\n",
    "df1.loc[areia].shape\n"
   ]
  },
  {
   "cell_type": "code",
   "execution_count": 15,
   "id": "a06e5bf7-a90f-4c03-8565-2a659a5b3c2c",
   "metadata": {},
   "outputs": [
    {
     "data": {
      "text/plain": [
       "7083"
      ]
     },
     "execution_count": 15,
     "metadata": {},
     "output_type": "execute_result"
    }
   ],
   "source": [
    "df1.loc[df1['Weatherconditions'] == 'conditions Sandstorms'].shape[0]"
   ]
  },
  {
   "cell_type": "markdown",
   "id": "387b988a-2a75-4cb7-b6d2-e80460131cf9",
   "metadata": {},
   "source": [
    "7. Quais eram as condicões climáticas da data mais recente de entrega?\n"
   ]
  },
  {
   "cell_type": "code",
   "execution_count": 16,
   "id": "21652cba-bf42-4f4c-a747-67e5202b4bc6",
   "metadata": {},
   "outputs": [
    {
     "data": {
      "text/plain": [
       "Order_Date           2022-02-11 00:00:00\n",
       "Weatherconditions       conditions Windy\n",
       "Name: 12660, dtype: object"
      ]
     },
     "execution_count": 16,
     "metadata": {},
     "output_type": "execute_result"
    }
   ],
   "source": [
    "df1.loc[12660,['Order_Date', 'Weatherconditions']]"
   ]
  },
  {
   "cell_type": "markdown",
   "id": "6487ddf5-e322-4f52-b882-3bd7ef5eca91",
   "metadata": {},
   "source": [
    "8. Quantos tipos de densidade de trânsito existem na base de dados? Quais os\n",
    "nomes delas?\n"
   ]
  },
  {
   "cell_type": "code",
   "execution_count": 17,
   "id": "6c60050f-7bc4-49be-8796-d6bd394ddf83",
   "metadata": {},
   "outputs": [
    {
     "data": {
      "text/plain": [
       "array(['High ', 'Jam ', 'Low ', 'Medium ', 'NaN '], dtype=object)"
      ]
     },
     "execution_count": 17,
     "metadata": {},
     "output_type": "execute_result"
    }
   ],
   "source": [
    "df1['Road_traffic_density'].unique()"
   ]
  },
  {
   "cell_type": "markdown",
   "id": "aebc590f-cf6d-4087-b058-980ff203b99d",
   "metadata": {},
   "source": [
    "9. Quantas entregas foram feitas em cada condição climática?\n"
   ]
  },
  {
   "cell_type": "code",
   "execution_count": 18,
   "id": "9188444b-88bf-4adc-8882-24b32f7f561a",
   "metadata": {},
   "outputs": [
    {
     "name": "stdout",
     "output_type": "stream",
     "text": [
      "conditions Sunny\n",
      "6904\n",
      "conditions Stormy\n",
      "7226\n",
      "conditions Sandstorms\n",
      "7083\n",
      "conditions Cloudy\n",
      "7135\n",
      "conditions Fog\n",
      "7288\n",
      "conditions Windy\n",
      "7078\n",
      "conditions NaN\n",
      "91\n"
     ]
    }
   ],
   "source": [
    "for i in list(df1['Weatherconditions'].unique()):\n",
    "    print(i)\n",
    "    condicoes = df1.loc[df1['Weatherconditions'] == i].shape[0]\n",
    "    print(condicoes)\n",
    "    "
   ]
  },
  {
   "cell_type": "code",
   "execution_count": 19,
   "id": "ec0b05a8-9bc6-4355-a76c-b1ef15a244f9",
   "metadata": {},
   "outputs": [
    {
     "data": {
      "text/plain": [
       "['conditions Sunny',\n",
       " 'conditions Stormy',\n",
       " 'conditions Sandstorms',\n",
       " 'conditions Cloudy',\n",
       " 'conditions Fog',\n",
       " 'conditions Windy',\n",
       " 'conditions NaN']"
      ]
     },
     "execution_count": 19,
     "metadata": {},
     "output_type": "execute_result"
    }
   ],
   "source": [
    "['conditions Sunny', 'conditions Stormy', 'conditions Sandstorms',\n",
    "       'conditions Cloudy', 'conditions Fog', 'conditions Windy',\n",
    "       'conditions NaN']"
   ]
  },
  {
   "cell_type": "markdown",
   "id": "1abce6b9-66ee-46ae-bd43-fd712da9557d",
   "metadata": {},
   "source": [
    "10. Quantos entregadores únicos fizeram entregas em cada condição climática?\n"
   ]
  },
  {
   "cell_type": "code",
   "execution_count": 20,
   "id": "3718e5b7-8c6e-4132-8b6a-5f00e1471f48",
   "metadata": {},
   "outputs": [
    {
     "name": "stdout",
     "output_type": "stream",
     "text": [
      "conditions Sunny\n",
      "1233\n",
      "conditions Stormy\n",
      "1234\n",
      "conditions Sandstorms\n",
      "1239\n",
      "conditions Cloudy\n",
      "1246\n",
      "conditions Fog\n",
      "1251\n",
      "conditions Windy\n",
      "1230\n",
      "conditions NaN\n",
      "87\n"
     ]
    }
   ],
   "source": [
    "for i in list(df1['Weatherconditions'].unique()):\n",
    "    print(i)\n",
    "    dfdelivery = df1.loc[df1['Weatherconditions'] == i]\n",
    "    print(dfdelivery['Delivery_person_ID'].unique().shape[0])\n",
    "    "
   ]
  },
  {
   "cell_type": "markdown",
   "id": "9766a453-a09d-4300-b05b-2ecda7b2abb9",
   "metadata": {},
   "source": [
    "11. Quantas entregas foram feitas em cada tipo de densidade de trânsito?\n"
   ]
  },
  {
   "cell_type": "code",
   "execution_count": 21,
   "id": "7f4379a7-71c9-44cc-aa12-92c2e925b068",
   "metadata": {},
   "outputs": [
    {
     "name": "stdout",
     "output_type": "stream",
     "text": [
      "High \n",
      "4212\n",
      "Jam \n",
      "13480\n",
      "Low \n",
      "14605\n",
      "Medium \n",
      "10417\n",
      "NaN \n",
      "91\n"
     ]
    }
   ],
   "source": [
    "for i in list(df1['Road_traffic_density'].unique()):\n",
    "    print(i)\n",
    "    entregas = df1.loc[df1['Road_traffic_density'] == i].shape[0]\n",
    "    print(entregas)\n"
   ]
  },
  {
   "cell_type": "markdown",
   "id": "71d81280-2715-435b-9f25-a3890e586407",
   "metadata": {},
   "source": [
    "12. Quantos entregadores únicos fizeram entregas em cada tipo de densidade\n",
    "de trânsito?\n"
   ]
  },
  {
   "cell_type": "code",
   "execution_count": 30,
   "id": "940390a2-ba3b-43a5-84da-0ec0de4a2375",
   "metadata": {},
   "outputs": [
    {
     "name": "stdout",
     "output_type": "stream",
     "text": [
      "High \n",
      "787\n",
      "Jam \n",
      "1306\n",
      "Low \n",
      "1310\n",
      "Medium \n",
      "1287\n",
      "NaN \n",
      "87\n"
     ]
    }
   ],
   "source": [
    "for i in list(df1['Road_traffic_density'].unique()):\n",
    "    print(i)\n",
    "    entregas = df1.loc[df1['Road_traffic_density'] == i]\n",
    "    print(entregas['Delivery_person_ID'].unique().shape[0])"
   ]
  },
  {
   "cell_type": "markdown",
   "id": "981c076b-2d01-4f05-9114-252120fa42fb",
   "metadata": {},
   "source": [
    "13. Quantas cidades únicas existem na base? Quais são os seus nomes?\n"
   ]
  },
  {
   "cell_type": "code",
   "execution_count": 23,
   "id": "ed8822f7-5aad-45ff-ab7c-85df15906d88",
   "metadata": {},
   "outputs": [
    {
     "data": {
      "text/plain": [
       "array(['Urban ', 'Metropolitian ', 'Semi-Urban ', 'NaN '], dtype=object)"
      ]
     },
     "execution_count": 23,
     "metadata": {},
     "output_type": "execute_result"
    }
   ],
   "source": [
    "df1['City'].unique()"
   ]
  },
  {
   "cell_type": "markdown",
   "id": "0ad1bb7b-23d1-497b-85ef-61eb8c45c654",
   "metadata": {},
   "source": [
    "14. Quantos tipos de veículos únicos existem na base?\n"
   ]
  },
  {
   "cell_type": "code",
   "execution_count": 24,
   "id": "19ef9282-96d0-430e-88b2-2509a5cd892f",
   "metadata": {},
   "outputs": [
    {
     "data": {
      "text/plain": [
       "array(['motorcycle ', 'scooter ', 'electric_scooter ', 'bicycle '],\n",
       "      dtype=object)"
      ]
     },
     "execution_count": 24,
     "metadata": {},
     "output_type": "execute_result"
    }
   ],
   "source": [
    "df1['Type_of_vehicle'].unique()\n"
   ]
  },
  {
   "cell_type": "markdown",
   "id": "652d570d-c763-449e-80e2-8b1cf6612b3c",
   "metadata": {},
   "source": [
    "15. Qual o tipo de veículo que mais fez entregas com a condição de trânsito\n",
    "pesado? ( High )\n"
   ]
  },
  {
   "cell_type": "code",
   "execution_count": 117,
   "id": "859ddd89-3e1f-4437-bb29-3681be7b3e12",
   "metadata": {},
   "outputs": [
    {
     "name": "stdout",
     "output_type": "stream",
     "text": [
      "motorcycle \n",
      "2481\n",
      "scooter \n",
      "1399\n",
      "electric_scooter \n",
      "332\n",
      "bicycle \n",
      "0\n"
     ]
    }
   ],
   "source": [
    "for i in list(df1['Type_of_vehicle'].unique()):\n",
    "    print(i)\n",
    "    vehicle = (df1['Road_traffic_density'] == 'High ') & (df1['Type_of_vehicle'] == i)\n",
    "\n",
    "    aux = df1.loc[vehicle,:].shape[0]\n",
    "    print(aux)"
   ]
  },
  {
   "cell_type": "markdown",
   "id": "c89bbe44-e366-444b-bef7-a40459d608cd",
   "metadata": {},
   "source": [
    "16. Qual o tipo de pedido mais feito durante condições climáticas de tempestade\n",
    "de areia?\n"
   ]
  },
  {
   "cell_type": "code",
   "execution_count": 121,
   "id": "eb79b402-43b0-428c-bb7e-0790408b83a6",
   "metadata": {},
   "outputs": [
    {
     "name": "stdout",
     "output_type": "stream",
     "text": [
      "Snack \n",
      "1805\n",
      "Drinks \n",
      "1734\n",
      "Buffet \n",
      "1732\n",
      "Meal \n",
      "1812\n"
     ]
    }
   ],
   "source": [
    "for i in list(df1['Type_of_order'].unique()):\n",
    "    print(i)\n",
    "    order = (df1['Weatherconditions'] == 'conditions Sandstorms') & (df1['Type_of_order'] == i)\n",
    "\n",
    "    aux = df1.loc[order,:].shape[0]\n",
    "    print(aux)"
   ]
  },
  {
   "cell_type": "markdown",
   "id": "2962f86c-9851-4493-94f9-b0ba42c67393",
   "metadata": {},
   "source": [
    "17. Qual a cidade com o maior número de pedidos de Bebidas (Drinks) feito em\n",
    "Scooter?\n"
   ]
  },
  {
   "cell_type": "code",
   "execution_count": 127,
   "id": "70a28794-1792-4b6a-8995-498772508647",
   "metadata": {},
   "outputs": [
    {
     "name": "stdout",
     "output_type": "stream",
     "text": [
      "Urban \n",
      "847\n",
      "Metropolitian \n",
      "2655\n",
      "Semi-Urban \n",
      "1\n",
      "NaN \n",
      "100\n"
     ]
    }
   ],
   "source": [
    "for i in list(df1['City'].unique()):\n",
    "    print(i)\n",
    "    cidade = (df1['Type_of_order'] == 'Drinks ') & (df1['Type_of_vehicle'] == 'scooter ') & (df1['City'] == i )\n",
    "\n",
    "    aux = df1.loc[cidade, :].shape[0]\n",
    "    print(aux)"
   ]
  },
  {
   "cell_type": "markdown",
   "id": "ed824f3a-9d7c-4205-906b-64f7837ecd03",
   "metadata": {},
   "source": [
    "18. Qual o nome da cidade com o (os) entregador mais velho? E o nome da\n",
    "cidade com o (os) entregadores mais novos?\n"
   ]
  },
  {
   "cell_type": "code",
   "execution_count": 165,
   "id": "377d1839-3399-46d9-aaa3-dadc34980e1e",
   "metadata": {},
   "outputs": [
    {
     "name": "stdout",
     "output_type": "stream",
     "text": [
      "City                   Metropolitian \n",
      "Delivery_person_Age                50\n",
      "Name: 20079, dtype: object\n",
      "City                   Metropolitian \n",
      "Delivery_person_Age                15\n",
      "Name: 30024, dtype: object\n"
     ]
    }
   ],
   "source": [
    "print(df1.loc[20079, ['City', 'Delivery_person_Age']])\n",
    "print(df1.loc[30024, ['City', 'Delivery_person_Age']])\n"
   ]
  },
  {
   "cell_type": "markdown",
   "id": "256578de-377f-4c9e-a8f4-537a33bf6466",
   "metadata": {},
   "source": [
    "19. Quantas entregas foram feitas durante o Festival?\n"
   ]
  },
  {
   "cell_type": "code",
   "execution_count": 148,
   "id": "1cd02f68-600b-4d6e-a56b-62f9bfbc7499",
   "metadata": {},
   "outputs": [
    {
     "data": {
      "text/plain": [
       "848"
      ]
     },
     "execution_count": 148,
     "metadata": {},
     "output_type": "execute_result"
    }
   ],
   "source": [
    "df1.loc[df1['Festival'] == 'Yes ', :].shape[0]"
   ]
  },
  {
   "cell_type": "markdown",
   "id": "0a8571d8-5c3e-479c-af34-fc636e2291d3",
   "metadata": {},
   "source": [
    "20. Quantas cidades únicas tiveram entregas feitas durante o Festival?\n"
   ]
  },
  {
   "cell_type": "code",
   "execution_count": 172,
   "id": "fa051c4c-89b4-4c2e-b0b4-8d67abd821fa",
   "metadata": {},
   "outputs": [
    {
     "name": "stdout",
     "output_type": "stream",
     "text": [
      "Urban \n",
      "109\n",
      "Metropolitian \n",
      "687\n",
      "Semi-Urban \n",
      "39\n",
      "NaN \n",
      "13\n"
     ]
    }
   ],
   "source": [
    "for i in list(df1['City'].unique()):\n",
    "    print(i)\n",
    "    entregas = (df1['Festival'] == 'Yes ') & (df1['City'] == i)\n",
    "    aux = df1.loc[entregas, :].shape[0]\n",
    "    print(aux)"
   ]
  },
  {
   "cell_type": "markdown",
   "id": "06f9ea3a-856c-48f2-8e67-945f0754a908",
   "metadata": {},
   "source": [
    "21. Quantas entregas foram feitas durante o Festival na cidade chamada Urban\n",
    "(\"Urban\")"
   ]
  },
  {
   "cell_type": "code",
   "execution_count": 173,
   "id": "57844f46-0cbe-43a8-81a5-891df0ac17da",
   "metadata": {},
   "outputs": [
    {
     "name": "stdout",
     "output_type": "stream",
     "text": [
      "109\n"
     ]
    }
   ],
   "source": [
    "entregas = (df1['Festival'] == 'Yes ') & (df1['City'] == 'Urban ')\n",
    "aux = df1.loc[entregas, :].shape[0]\n",
    "print(aux)"
   ]
  }
 ],
 "metadata": {
  "kernelspec": {
   "display_name": "Python 3 (ipykernel)",
   "language": "python",
   "name": "python3"
  },
  "language_info": {
   "codemirror_mode": {
    "name": "ipython",
    "version": 3
   },
   "file_extension": ".py",
   "mimetype": "text/x-python",
   "name": "python",
   "nbconvert_exporter": "python",
   "pygments_lexer": "ipython3",
   "version": "3.11.10"
  }
 },
 "nbformat": 4,
 "nbformat_minor": 5
}
