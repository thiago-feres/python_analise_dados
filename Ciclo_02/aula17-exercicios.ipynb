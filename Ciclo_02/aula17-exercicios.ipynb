{
 "cells": [
  {
   "cell_type": "markdown",
   "id": "94455cb8-a09b-40eb-935a-1a1fb6833bd5",
   "metadata": {},
   "source": [
    "# Exercicio 1"
   ]
  },
  {
   "cell_type": "markdown",
   "id": "5e64d0a4-bd37-4e61-a5c4-61f6edfdaae6",
   "metadata": {},
   "source": [
    "Um programador Jr precisa construir uma mini calculadora. Esse calculadora\n",
    "segue os seguintes padrões: Se o usuário digitar um valor menor ou igual a 5,\n",
    "a calculadora vai multiplicar esse valor por 10 e retornar o valor resultantes\n",
    "para o usuário. Por outro lado, se o usuário digitar um número entre 6 e 10, a\n",
    "calculadora multiplica por 20 o número digitado pelo usuário e se o usuário\n",
    "digitar um valor maior ou igual a 11, a calculadora soma 100 ao número\n",
    "digitado. Ajude o programador Jr a construir essa calculadora, fornecendo o\n",
    "diagrama de blocos para ele."
   ]
  },
  {
   "cell_type": "code",
   "execution_count": null,
   "id": "10cd74a0-1bb4-4da4-a9b3-db20c67ed118",
   "metadata": {},
   "outputs": [],
   "source": [
    "numero = int(input())\n",
    "\n",
    "if numero <= 5:\n",
    "    resultado = numero * 10\n",
    "    print(\"valor menor ou igual a 5\")\n",
    "    print(\"o valor eh: \")\n",
    "    print(resultado)\n",
    "else:\n",
    "    if numero < 11:\n",
    "        resultado = numero * 20\n",
    "        print(\"valor entre 6 e 10\")\n",
    "        print(\"o valor eh: \")\n",
    "        print(resultado)\n",
    "    else:\n",
    "        resultado = numero + 100\n",
    "        print(\"valor maior ou igual a 11\")\n",
    "        print(\"o valor eh: \")\n",
    "        print(resultado)\n",
    "    "
   ]
  },
  {
   "cell_type": "markdown",
   "id": "804921ce-e89b-43e0-9c3b-b6a0efe3d331",
   "metadata": {},
   "source": [
    "# Exercicio 2"
   ]
  },
  {
   "cell_type": "markdown",
   "id": "907fc382-8242-4cf4-a517-296197b06211",
   "metadata": {},
   "source": [
    "Crie um script em Python que exiba, cinquenta e duas vezes, a seguinte\n",
    "mensagem “Um valor foi removido da lista”. Além disso, esse script deve\n",
    "mostrar, junto com a mensagem, o número de vezes em que a mensagem foi\n",
    "exibida.\n",
    "\n",
    "Por exemplo:\n",
    "\n",
    "Um valo foi removido da lista (1)\n",
    "\n",
    "Um valo foi removido da lista (2)\n",
    "\n",
    "Um valo foi removido da lista (3)\n",
    "\n",
    "Um valo foi removido da lista (4)\n",
    "\n",
    "...\n",
    "\n",
    "Um valo foi removido da lista (52)"
   ]
  },
  {
   "cell_type": "code",
   "execution_count": null,
   "id": "a5dd0165-3e76-41a0-8e35-c9c13d0b80a0",
   "metadata": {},
   "outputs": [],
   "source": [
    "numero = 0\n",
    "while numero < 52:\n",
    "    numero = numero + 1\n",
    "    print(\"um valor foi adicionado na lista\", \"(\", numero, \")\")"
   ]
  },
  {
   "cell_type": "markdown",
   "id": "72b24f31-2a8b-4eb3-9504-0b0671962f64",
   "metadata": {
    "jp-MarkdownHeadingCollapsed": true
   },
   "source": [
    "# Exercicio 3"
   ]
  },
  {
   "cell_type": "markdown",
   "id": "57861f25-d9b3-41ec-8502-de73853d7f5e",
   "metadata": {},
   "source": [
    "Um Cientista de Dados Jr precisa criar uma algoritmo que seja capaz de\n",
    "calcular a média ponderada dos valores digitados pelo usuário. O usuário é\n",
    "capaz de digitar 8 valores. O primeiro número tem peso 0.5 , o segundo 1.0,\n",
    "o terceiro 1.5 até o último valor que tem peso 4, ou seja, os pesos são\n",
    "acrescidos de 0.5 para cada valor. Por tanto, o algoritmo deve ser capaz de\n",
    "calcular a média ponderada dos oito valores digitados pelo usuário, cada\n",
    "valor com o seu respectivo peso."
   ]
  },
  {
   "cell_type": "code",
   "execution_count": null,
   "id": "4f4ec54e-d80c-4601-9e27-dd8d92283f55",
   "metadata": {},
   "outputs": [],
   "source": [
    "n1 = float(input())\n",
    "n2 = float(input())\n",
    "n3 = float(input())\n",
    "n4 = float(input())\n",
    "n5 = float(input())\n",
    "n6 = float(input())\n",
    "n7 = float(input())\n",
    "n8 = float(input())\n",
    "\n",
    "p1 = 0.5\n",
    "p2 = 1.0\n",
    "p3 = 1.5\n",
    "p4 = 2.0\n",
    "p5 = 2.5\n",
    "p6 = 3.0\n",
    "p7 = 3.5\n",
    "p8 = 4.0\n",
    "\n",
    "mp = (n1 * p1) + (n2 * p2) + (n3 * p3) + (n4 * p4) + (n5 * p5) + (n6 * p6) + (n7 * p7) + (n8 * p8)\n",
    "pt = p1 + p2 + p3 + p4 + p5 + p6 + p7 + p8\n",
    "\n",
    "resultado = mp/pt\n",
    "print(resultado)\n",
    "\n",
    "\n"
   ]
  },
  {
   "cell_type": "markdown",
   "id": "11a8133e-2841-4e6a-88d9-8520cc54bf9e",
   "metadata": {
    "jp-MarkdownHeadingCollapsed": true
   },
   "source": [
    "# Exercicio 4"
   ]
  },
  {
   "cell_type": "markdown",
   "id": "5d9d7373-8b04-4fc2-9afb-04661d156261",
   "metadata": {},
   "source": [
    "Converta o pseudocódigo abaixo para código Python.\n",
    "\n",
    "var\n",
    "    \n",
    "    valor, resultado\n",
    "    \n",
    "inicio\n",
    "    \n",
    "    leia valor\n",
    "\n",
    "    se valor é maior que 10\n",
    "\n",
    "        resultado <- valor * 100\n",
    "\n",
    "    senao\n",
    "\n",
    "        resultado <- valor + 10\n",
    "\n",
    "    escreva \"O resultado é igual a {resultado}\"\n",
    "\n",
    "fim"
   ]
  },
  {
   "cell_type": "code",
   "execution_count": 5,
   "id": "d40e14cc-85f3-42c0-acb2-37a03ddf187c",
   "metadata": {},
   "outputs": [
    {
     "name": "stdin",
     "output_type": "stream",
     "text": [
      " 11\n"
     ]
    },
    {
     "name": "stdout",
     "output_type": "stream",
     "text": [
      "O resultado eh igual a: \n",
      "1100.0\n"
     ]
    }
   ],
   "source": [
    "numero = float(input())\n",
    "if numero > 10:\n",
    "    resultado = numero * 100\n",
    "else:\n",
    "    resultado = numero + 10\n",
    "print(\"O resultado eh igual a: \")\n",
    "print(resultado)\n"
   ]
  },
  {
   "cell_type": "markdown",
   "id": "3598455f-7362-42ee-95c8-9cc52710aa8e",
   "metadata": {},
   "source": [
    "# Exercicio 5"
   ]
  },
  {
   "cell_type": "markdown",
   "id": "bb9a06c1-a4ad-4040-9d07-8a5b4aecc096",
   "metadata": {},
   "source": [
    "Converta o pseudocódigo abaixo para código Python.\n",
    "\n",
    "var\n",
    "\n",
    "    idade\n",
    "    \n",
    "inicio\n",
    "\n",
    "    leia idade\n",
    "    \n",
    "    se idade é maior ou igual a 18\n",
    "    \n",
    "        escreva \"É maior de idade\"\n",
    "        \n",
    "    senao\n",
    "    \n",
    "        escreva \"Não é maior de idade\"\n",
    "        \n",
    "fim"
   ]
  },
  {
   "cell_type": "code",
   "execution_count": 13,
   "id": "d2b56cba-5a41-4aa8-95b0-eaf766c80ee5",
   "metadata": {},
   "outputs": [
    {
     "name": "stdin",
     "output_type": "stream",
     "text": [
      " 12.1\n"
     ]
    },
    {
     "name": "stdout",
     "output_type": "stream",
     "text": [
      "Nao eh maior de idade!\n"
     ]
    }
   ],
   "source": [
    "idade = float(input())\n",
    "\n",
    "if idade >= 18:\n",
    "    print(\"Eh maior de idade!\")\n",
    "else: \n",
    "    print(\"Nao eh maior de idade!\")"
   ]
  },
  {
   "cell_type": "markdown",
   "id": "5d14613f-2620-43a6-b8c2-67c480a474f6",
   "metadata": {},
   "source": [
    "# Exercicio 6"
   ]
  },
  {
   "cell_type": "markdown",
   "id": "dde2bec4-ba1e-4358-8362-a5f8ffb16e71",
   "metadata": {},
   "source": [
    "Um programador Jr precisa criar um algoritmo que consiga fazer a\n",
    "comparação entre três valores digitados pelo usuário e exibir qual é o maior e\n",
    "qual é o menor valor digitado. Ajude o programador a desenvolver um\n",
    "algoritmo que receba três valores digitados pelo usuário e verifique qual\n",
    "deles é o maior e qual deles é o menor valor, e exiba ambos na tela."
   ]
  },
  {
   "cell_type": "code",
   "execution_count": 29,
   "id": "af03df1a-dd8d-43f7-9e51-528bd86cf952",
   "metadata": {},
   "outputs": [
    {
     "name": "stdin",
     "output_type": "stream",
     "text": [
      " 2\n",
      " 2\n",
      " 2\n"
     ]
    },
    {
     "name": "stdout",
     "output_type": "stream",
     "text": [
      "n3 eh maior\n",
      "2.0\n",
      "n3 eh menor\n",
      "2.0\n"
     ]
    }
   ],
   "source": [
    "n1 = float(input())\n",
    "n2 = float(input())\n",
    "n3 = float(input())\n",
    "\n",
    "if n1 > n2:\n",
    "    if n1 > n3:\n",
    "        print(\"n1 eh maior\")\n",
    "        print(n1)\n",
    "    else:\n",
    "        print(\"n3 eh maior\")\n",
    "        print(n3)\n",
    "else:\n",
    "    if n2 > n3:\n",
    "        print(\"n2 eh maior\")\n",
    "        print(n2)\n",
    "    else:\n",
    "        print(\"n3 eh maior\")\n",
    "        print(n3)\n",
    "\n",
    "if n1 < n2:\n",
    "    if n1 < n3:\n",
    "        print(\"n1 eh menor\")\n",
    "        print(n1)\n",
    "    else:\n",
    "        print(\"n3 eh menor\")\n",
    "        print(n3)\n",
    "else:\n",
    "    if n2 < n3:\n",
    "        print(\"n2 eh menor\")\n",
    "        print(n2)\n",
    "    else:\n",
    "        print(\"n3 eh menor\")\n",
    "        print(n3)"
   ]
  },
  {
   "cell_type": "markdown",
   "id": "22d31317-e7c3-4c32-96e8-d9edf2a28e3a",
   "metadata": {},
   "source": [
    "# Exercicio 7"
   ]
  },
  {
   "cell_type": "markdown",
   "id": "d8500979-f107-4ea6-9224-c2143c2a9e6d",
   "metadata": {},
   "source": [
    "Desenvolva um script em Python capaz de calcular a média harmônica entre\n",
    "5 números. Por exemplo: 2, 3, 5, 6 e 9"
   ]
  },
  {
   "cell_type": "code",
   "execution_count": 30,
   "id": "24718e26-75da-4ca0-9d0a-a4455da80303",
   "metadata": {},
   "outputs": [
    {
     "name": "stdin",
     "output_type": "stream",
     "text": [
      " 2\n",
      " 3\n",
      " 5\n",
      " 6\n",
      " 9\n"
     ]
    },
    {
     "name": "stdout",
     "output_type": "stream",
     "text": [
      "3.8135593220338984\n"
     ]
    }
   ],
   "source": [
    "n1 = float(input())\n",
    "n2 = float(input())\n",
    "n3 = float(input())\n",
    "n4 = float(input())\n",
    "n5 = float(input())\n",
    "\n",
    "inverso1 = 1/n1\n",
    "inverso2 = 1/n2\n",
    "inverso3 = 1/n3\n",
    "inverso4 = 1/n4\n",
    "inverso5 = 1/n5\n",
    "\n",
    "somainversos = inverso1 + inverso2 + inverso3 + inverso4 + inverso5\n",
    "\n",
    "resultado = 5/somainversos\n",
    "print(resultado)"
   ]
  },
  {
   "cell_type": "markdown",
   "id": "6cfbf2f1-c214-47f7-8092-e4d3b9667af2",
   "metadata": {},
   "source": [
    "# Exercicio 8"
   ]
  },
  {
   "cell_type": "markdown",
   "id": "86d00ee0-e695-4bbb-9e55-d4371a9c8a35",
   "metadata": {},
   "source": [
    "Crie um script em Python capaz de calcular o desvio padrão de um\n",
    "sequência de 10 números. Por exemplo: 53, 9, 54, 91, 84, 54, 7, 51, 60, 86"
   ]
  },
  {
   "cell_type": "code",
   "execution_count": 40,
   "id": "330d3f51-51e1-45fc-8704-0956affcad43",
   "metadata": {},
   "outputs": [
    {
     "name": "stdout",
     "output_type": "stream",
     "text": [
      "ntotal:  549\n",
      "media:  54.9\n",
      "somad:  7564.900000000001\n",
      "resultado:  840.5444444444445\n",
      "dp:  28.99214452993163\n"
     ]
    }
   ],
   "source": [
    "n1 = 53\n",
    "n2 = 9\n",
    "n3 = 54\n",
    "n4 = 91\n",
    "n5 = 84\n",
    "n6 = 54\n",
    "n7 = 7\n",
    "n8 = 51\n",
    "n9 = 60\n",
    "n10 = 86\n",
    "\n",
    "ntotal = n1 + n2 + n3 + n4 + n5 + n6 + n7 + n8 + n9 + n10\n",
    "print(\"ntotal: \",ntotal)\n",
    "\n",
    "media = ntotal/10\n",
    "print(\"media: \",media)\n",
    "\n",
    "d1 = (n1 - media)**2\n",
    "d2 = (n2 - media)**2\n",
    "d3 = (n3 - media)**2\n",
    "d4 = (n4 - media)**2\n",
    "d5 = (n5 - media)**2\n",
    "d6 = (n6 - media)**2\n",
    "d7 = (n7 - media)**2\n",
    "d8 = (n8 - media)**2\n",
    "d9 = (n9 - media)**2\n",
    "d10 = (n10 - media)**2\n",
    "\n",
    "somad = d1 + d2 + d3 + d4 + d5 + d6 + d7 + d8 + d9 + d10\n",
    "print(\"somad: \",somad)\n",
    "resultado = somad/9\n",
    "print(\"resultado: \",resultado)\n",
    "\n",
    "dp = resultado ** 0.5\n",
    "print(\"dp: \",dp)"
   ]
  },
  {
   "cell_type": "code",
   "execution_count": null,
   "id": "9d7c1ab4-20c5-4fc2-ab27-93ad0d39279e",
   "metadata": {},
   "outputs": [],
   "source": []
  }
 ],
 "metadata": {
  "kernelspec": {
   "display_name": "Python 3 (ipykernel)",
   "language": "python",
   "name": "python3"
  },
  "language_info": {
   "codemirror_mode": {
    "name": "ipython",
    "version": 3
   },
   "file_extension": ".py",
   "mimetype": "text/x-python",
   "name": "python",
   "nbconvert_exporter": "python",
   "pygments_lexer": "ipython3",
   "version": "3.11.10"
  }
 },
 "nbformat": 4,
 "nbformat_minor": 5
}
