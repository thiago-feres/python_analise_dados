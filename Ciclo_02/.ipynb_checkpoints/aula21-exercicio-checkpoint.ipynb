{
 "cells": [
  {
   "cell_type": "markdown",
   "id": "ed520f6d-ccff-4ea0-8cfd-d49cdc5d8bb7",
   "metadata": {},
   "source": [
    "# O problema de negocio"
   ]
  },
  {
   "cell_type": "markdown",
   "id": "72e68303-f1bf-474a-b4db-4db832a5743b",
   "metadata": {},
   "source": [
    "O restaurante Big Boca precisa planejar os descontos dos hambúrgueres durante semana da Black Friday.\n",
    "Geralmente, os descontos são progressivos, começando de 10% no primeiro dia, até 70% de desconto\n",
    "base, no último dia. A progressão do desconto, depende do número de pedidos previstos diariamente.\n",
    "O time de Marketing definiu a regra de negócio dos descontos: No dia 1, o desconto base é de 10% em\n",
    "qualquer pedido, se houverem até 1000 pedidos. Acima de 1000 pedidos, a cada 100 novos pedidos, o\n",
    "desconto será acrescido em 1%. Por exemplo, se no dia 1 a previsão for de 500 pedidos, o desconto será\n",
    "de 10%, caso a quantidade de pedidos seja de 1100 pedidos, o desconto será de 11%.\n",
    "No dia 2, o desconto base é de 20% se houverem até 2000 pedidos e a cada 100 pedidos a mais, o\n",
    "desconto aumenta em 1%. Ou seja, se no segundo dia houverem 1500 pedido, o desconto será de 20%.\n",
    "Se houverem 2100 pedidos, o desconto será de 21%.\n",
    "Essa lógica de aumento progressivo se mantém a mesma até o dia 7, o último dia da Black Friday.\n",
    "A previsão diária de pedidos foi feita pelo time de Cientistas de Dados está abaixo:\n",
    "\n",
    "Dia Previsão de pedidos\n",
    "\n",
    "1 400\n",
    "\n",
    "2 100\n",
    "\n",
    "3 3600\n",
    "\n",
    "4 4100\n",
    "\n",
    "5 4900\n",
    "\n",
    "6 7600\n",
    "\n",
    "7 9500\n",
    "\n",
    "O seu objetivo como Cientista de Dados é fornecer o valor do desconto diário para o Head de Marketing,\n",
    "segundo as previsões e as regras do desconto progressivo."
   ]
  },
  {
   "cell_type": "code",
   "execution_count": 41,
   "id": "b74e00c5-ce34-4022-8b35-00a74e75bbce",
   "metadata": {},
   "outputs": [
    {
     "name": "stdout",
     "output_type": "stream",
     "text": [
      "desconto do dia 1 - 10.0 %\n",
      "desconto do dia 2 - 20.0 %\n",
      "desconto do dia 3 - 36.0 %\n",
      "desconto do dia 4 - 41.0 %\n",
      "desconto do dia 5 - 50.0 %\n",
      "desconto do dia 6 - 76.0 %\n",
      "desconto do dia 7 - 95.0 %\n"
     ]
    }
   ],
   "source": [
    "diadasemana = [1, 2, 3, 4, 5, 6, 7]\n",
    "pedidos = [400, 100, 3600, 4100, 4900, 7600, 9500]\n",
    "desconto = [10, 20, 30, 40, 50, 60, 70]\n",
    "\n",
    "for dialista in diadasemana:\n",
    "    dia = dialista - 1\n",
    "    if pedidos[dia] < diadasemana[dia]*1000:\n",
    "        descontototal = desconto[dia]\n",
    "        print(\"desconto do dia\", diadasemana[dia], \"-\", float(descontototal), \"%\")\n",
    "    else:\n",
    "        descontototal = pedidos[dia]/100\n",
    "        print(\"desconto do dia\", diadasemana[dia], \"-\", descontototal, \"%\")"
   ]
  },
  {
   "cell_type": "code",
   "execution_count": null,
   "id": "a199e1d7-a040-4413-adcf-a8d09295864e",
   "metadata": {},
   "outputs": [],
   "source": []
  },
  {
   "cell_type": "code",
   "execution_count": null,
   "id": "33234a9e-3df9-44eb-894f-89a3da45f12b",
   "metadata": {},
   "outputs": [],
   "source": []
  },
  {
   "cell_type": "code",
   "execution_count": null,
   "id": "aad09b84-5c38-4461-b213-cc6160b45e9d",
   "metadata": {},
   "outputs": [],
   "source": []
  },
  {
   "cell_type": "code",
   "execution_count": null,
   "id": "160877fb-6e39-4911-8d8e-4c95c0c8907a",
   "metadata": {},
   "outputs": [],
   "source": []
  }
 ],
 "metadata": {
  "kernelspec": {
   "display_name": "Python 3 (ipykernel)",
   "language": "python",
   "name": "python3"
  },
  "language_info": {
   "codemirror_mode": {
    "name": "ipython",
    "version": 3
   },
   "file_extension": ".py",
   "mimetype": "text/x-python",
   "name": "python",
   "nbconvert_exporter": "python",
   "pygments_lexer": "ipython3",
   "version": "3.11.10"
  }
 },
 "nbformat": 4,
 "nbformat_minor": 5
}
