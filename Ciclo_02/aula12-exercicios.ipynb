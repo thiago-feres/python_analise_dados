{
 "cells": [
  {
   "cell_type": "markdown",
   "id": "cf59bfe9-f5cd-4f50-b43a-b26ac31e9948",
   "metadata": {},
   "source": [
    "# Converter os seguintes pseudocódigos em Scripts Python:"
   ]
  },
  {
   "cell_type": "markdown",
   "id": "5b5d8bbb-bb69-41de-8608-4d8f5ccf8b1b",
   "metadata": {
    "jp-MarkdownHeadingCollapsed": true
   },
   "source": [
    "## EXERCICIO 01"
   ]
  },
  {
   "cell_type": "markdown",
   "id": "28f2408e-e64b-4fba-bf33-aaa950877687",
   "metadata": {},
   "source": [
    "###\n",
    "var\n",
    "\n",
    "soma, numero01, numero02\n",
    "inicio\n",
    "\n",
    "leia numero01\n",
    "\n",
    "leia numero02\n",
    "\n",
    "soma <- numero01 + numero02\n",
    "\n",
    "escreva \"O resultado da soma é \"\n",
    "\n",
    "escreva \"{soma}\"\n",
    "\n",
    "fim"
   ]
  },
  {
   "cell_type": "code",
   "execution_count": 11,
   "id": "8f9ae7a7-eef1-4324-94c6-237a6a983da2",
   "metadata": {},
   "outputs": [
    {
     "name": "stdin",
     "output_type": "stream",
     "text": [
      " 45\n",
      " 43\n"
     ]
    },
    {
     "name": "stdout",
     "output_type": "stream",
     "text": [
      "O Resultado da soma eh\n",
      "88.0\n"
     ]
    }
   ],
   "source": [
    "numero01 = float(input())\n",
    "numero02 = float(input())\n",
    "soma = numero01 + numero02\n",
    "print(\"O Resultado da soma eh\")\n",
    "print(soma)"
   ]
  },
  {
   "cell_type": "markdown",
   "id": "afef3cb4-5e3e-4d78-9e6f-fd803871ff05",
   "metadata": {
    "jp-MarkdownHeadingCollapsed": true
   },
   "source": [
    "## EXERCICIO 02"
   ]
  },
  {
   "cell_type": "markdown",
   "id": "ae30589d-5f12-4361-b16d-f1ad7baee377",
   "metadata": {},
   "source": [
    "###\n",
    "var\n",
    "\n",
    "nome\n",
    "\n",
    "inicio\n",
    "\n",
    "leia nome\n",
    "\n",
    "se nome é Pedro\n",
    "\n",
    "escreva \"Bem vindo Pedro\"\n",
    "\n",
    "senao\n",
    "\n",
    "escreva \"Bem vindo Meigarom\"\n",
    "\n",
    "fim"
   ]
  },
  {
   "cell_type": "code",
   "execution_count": 27,
   "id": "0ee79673-8478-4fee-aba4-de13c6f300e9",
   "metadata": {},
   "outputs": [
    {
     "name": "stdin",
     "output_type": "stream",
     "text": [
      " thiago\n"
     ]
    },
    {
     "name": "stdout",
     "output_type": "stream",
     "text": [
      "Bem vindo Meigarom!\n"
     ]
    }
   ],
   "source": [
    "nome = input()\n",
    "if nome == \"pedro\":\n",
    "    print(\"Bem vindo Pedro!\")\n",
    "else:\n",
    "    print(\"Bem vindo Meigarom!\")"
   ]
  },
  {
   "cell_type": "markdown",
   "id": "deb21d66-b13c-4dfb-83e4-da6109084df1",
   "metadata": {
    "jp-MarkdownHeadingCollapsed": true
   },
   "source": [
    "## EXERCICIO 03"
   ]
  },
  {
   "cell_type": "markdown",
   "id": "95a1dffc-4a57-427e-b92d-9b9f3fc11d52",
   "metadata": {},
   "source": [
    "###\n",
    "var\n",
    "\n",
    "valor, resultado\n",
    "\n",
    "inicio\n",
    "\n",
    "leia valor\n",
    "\n",
    "se valor é maior que 10\n",
    "\n",
    "resultado <- valor * 100\n",
    "\n",
    "senao\n",
    "\n",
    "resultado <- valor + 10\n",
    "\n",
    "escreva \"O resultado é igual a \"\n",
    "\n",
    "escreva \"{resultado}\"\n",
    "\n",
    "fim"
   ]
  },
  {
   "cell_type": "code",
   "execution_count": 33,
   "id": "6cd78012-fd95-482e-b97e-7278781551bb",
   "metadata": {},
   "outputs": [
    {
     "name": "stdin",
     "output_type": "stream",
     "text": [
      " 13243.3\n"
     ]
    },
    {
     "name": "stdout",
     "output_type": "stream",
     "text": [
      "O resultado eh igual a\n",
      "1324330.0\n"
     ]
    }
   ],
   "source": [
    "numero = float(input())\n",
    "if numero > 10:\n",
    "    resultado = numero * 100\n",
    "else:\n",
    "    resultado = numero + 10\n",
    "print(\"O resultado eh igual a\")\n",
    "print(resultado)"
   ]
  },
  {
   "cell_type": "markdown",
   "id": "6cb6bea4-a128-411f-963c-d5589628e7c5",
   "metadata": {},
   "source": [
    "## EXERCICIO 04"
   ]
  },
  {
   "cell_type": "markdown",
   "id": "1487d1a3-dfce-4128-9084-cc41751494de",
   "metadata": {},
   "source": [
    "###\n",
    "var\n",
    "\n",
    "    numero1, numero2, numero3\n",
    "\n",
    "inicio\n",
    "\n",
    "    leia numero1\n",
    "\n",
    "    leia numero2\n",
    "\n",
    "    leia numero3\n",
    "\n",
    "    se numero1 é maior que numero2\n",
    "\n",
    "        se numero1 é maior que numero3\n",
    "\n",
    "            escreva \"O maior valor é \"\n",
    "\n",
    "            escreva \"{numero1}\"\n",
    "\n",
    "        senao\n",
    "\n",
    "            escreva \"O maior valor é \"\n",
    "\n",
    "            escreva \"{numero3}\"\n",
    "\n",
    "    senao\n",
    "\n",
    "        se numero2 é maior que numero3\n",
    "\n",
    "            escreva \"O maior valor é \"\n",
    "\n",
    "            escreva \"{numero2}\"\n",
    "\n",
    "        senao\n",
    "\n",
    "            escreva \"O maior valor é \"\n",
    "\n",
    "            escreva \"{numero3}\"\n",
    "\n",
    "fim"
   ]
  },
  {
   "cell_type": "code",
   "execution_count": 40,
   "id": "d6158f0c-aacf-4751-a885-6ecc4899f57c",
   "metadata": {},
   "outputs": [
    {
     "name": "stdin",
     "output_type": "stream",
     "text": [
      " 1\n",
      " 3\n",
      " 2\n"
     ]
    },
    {
     "name": "stdout",
     "output_type": "stream",
     "text": [
      "o maior valor eh\n",
      "3.0\n"
     ]
    }
   ],
   "source": [
    "n1 = float(input())\n",
    "n2 = float(input())\n",
    "n3 = float(input())\n",
    "\n",
    "if n1 > n2:\n",
    "    if n1 > n3:\n",
    "        print(\"o maior valor eh\")\n",
    "        print(n1)\n",
    "    else:\n",
    "        print(\"o maior valor eh\")\n",
    "        print(n3)\n",
    "else:\n",
    "    if n2 > n3:\n",
    "        print(\"o maior valor eh\")\n",
    "        print(n2)\n",
    "    else:\n",
    "        print(\"o maior valor eh\")\n",
    "        print(n3)"
   ]
  }
 ],
 "metadata": {
  "kernelspec": {
   "display_name": "Python 3 (ipykernel)",
   "language": "python",
   "name": "python3"
  },
  "language_info": {
   "codemirror_mode": {
    "name": "ipython",
    "version": 3
   },
   "file_extension": ".py",
   "mimetype": "text/x-python",
   "name": "python",
   "nbconvert_exporter": "python",
   "pygments_lexer": "ipython3",
   "version": "3.11.10"
  }
 },
 "nbformat": 4,
 "nbformat_minor": 5
}
