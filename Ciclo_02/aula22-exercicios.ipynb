{
 "cells": [
  {
   "cell_type": "markdown",
   "id": "643e33f3-bd2e-4a5a-9bf8-c50c6ecf210f",
   "metadata": {},
   "source": [
    "# Exercicio 01"
   ]
  },
  {
   "cell_type": "markdown",
   "id": "fd814280-b9ed-4bcd-af3b-d8f527804a2d",
   "metadata": {},
   "source": [
    "Some o valor 10 a todos os elementos abaixo, guarde os resultados em uma\n",
    "lista e mostre-os para o usuário ao final do script.\n",
    "\n",
    "10, 11, 423, 2034, 134, 11, 3, 23, 34, 758, 9, 10, 14, 2, 412,34, 123,\n",
    "\n",
    "4132, 4, 12, 3412, 34, 12, 34132, 41, 234, 1, 23,4, 12, 3, 41, 2, 4123"
   ]
  },
  {
   "cell_type": "code",
   "execution_count": 9,
   "id": "b3731ea5-9cba-43f0-b28a-4513cb6855a0",
   "metadata": {},
   "outputs": [
    {
     "name": "stdout",
     "output_type": "stream",
     "text": [
      "[20, 21, 433, 2044, 144, 21, 13, 33, 44, 768, 19, 20, 24, 12, 422, 44, 133, 4142, 14, 22, 3422, 44, 22, 34142, 51, 244, 11, 33, 14, 22, 13, 51, 12, 4133]\n"
     ]
    }
   ],
   "source": [
    "lista = list()\n",
    "numeros = [10, 11, 423, 2034, 134, 11, 3, 23, 34, 758, 9, 10, 14, 2, 412,34, \n",
    "           123, 4132, 4, 12, 3412, 34, 12, 34132, 41, 234, 1, 23,4, 12, 3, 41, 2, 4123]\n",
    "\n",
    "for n in numeros:\n",
    "    numerolista = n + 10\n",
    "    lista.append(numerolista)\n",
    "print(lista)"
   ]
  },
  {
   "cell_type": "markdown",
   "id": "424074b9-c0f8-477b-ace1-1a33d1542bf8",
   "metadata": {},
   "source": [
    "# Exercicio 02"
   ]
  },
  {
   "cell_type": "markdown",
   "id": "d37bc89e-7862-4677-9738-a36f767a4c81",
   "metadata": {},
   "source": [
    "Percorra todos os elementos da lista e some 10 aos valores entre 0 e 10,\n",
    "multiplique por 20 os valores entre 11 e 50, subtraia 30 dos valores entre 51 e\n",
    "100 e divida por 2 os valores acima de 100.\n",
    "\n",
    "10, 11, 423, 2034, 134, 11, 3, 23, 34, 758, 9, 10, 14, 2, 412,34, 123,\n",
    "\n",
    "4132, 4, 12, 3412, 34, 12, 34132, 41, 234, 1, 23,4, 12, 3, 41, 2, 4123"
   ]
  },
  {
   "cell_type": "code",
   "execution_count": 14,
   "id": "20502503-c926-4569-ac0f-afa04178714e",
   "metadata": {},
   "outputs": [
    {
     "name": "stdout",
     "output_type": "stream",
     "text": [
      "[20, 220, 211.5, 1017.0, 67.0, 220, 13, 460, 680, 379.0, 19, 20, 280, 12, 206.0, 680, 61.5, 2066.0, 14, 240, 1706.0, 680, 240, 17066.0, 820, 117.0, 11, 460, 14, 240, 13, 820, 12, 2061.5]\n"
     ]
    }
   ],
   "source": [
    "lista = list()\n",
    "numeros = [10, 11, 423, 2034, 134, 11, 3, 23, 34, 758, 9, 10, 14, 2, 412,34, 123,\n",
    "4132, 4, 12, 3412, 34, 12, 34132, 41, 234, 1, 23,4, 12, 3, 41, 2, 4123]\n",
    "\n",
    "for n in numeros:\n",
    "    if n < 11:\n",
    "        numerolista = n + 10\n",
    "        lista.append(numerolista)\n",
    "    elif n < 51:\n",
    "        numerolista = n * 20\n",
    "        lista.append(numerolista)\n",
    "    elif n < 101:\n",
    "        numerolista = n - 30\n",
    "        lista.append(numerolista)\n",
    "    else:\n",
    "        numerolista = n / 2\n",
    "        lista.append(numerolista)\n",
    "\n",
    "print(lista)"
   ]
  },
  {
   "cell_type": "markdown",
   "id": "67ea4829-1539-49d5-970b-7a1238eb1f01",
   "metadata": {},
   "source": [
    "# Exercicio 03"
   ]
  },
  {
   "cell_type": "markdown",
   "id": "c8a5b7f3-4051-4009-80a6-929c4ec4890c",
   "metadata": {},
   "source": [
    "Crie um script em Python que exiba, cinquenta e duas vezes, a seguinte\n",
    "mensagem “Um valor foi removido da lista”. Além disso, esse script deve\n",
    "mostrar, junto com a mensagem, o número de vezes em que a mensagem foi\n",
    "exibida."
   ]
  },
  {
   "cell_type": "code",
   "execution_count": 22,
   "id": "9bc0cb36-3207-4c6a-b0b2-e58b06a79820",
   "metadata": {},
   "outputs": [
    {
     "name": "stdout",
     "output_type": "stream",
     "text": [
      "Um valor foi removido da lista 1\n",
      "Um valor foi removido da lista 2\n",
      "Um valor foi removido da lista 3\n",
      "Um valor foi removido da lista 4\n",
      "Um valor foi removido da lista 5\n",
      "Um valor foi removido da lista 6\n",
      "Um valor foi removido da lista 7\n",
      "Um valor foi removido da lista 8\n",
      "Um valor foi removido da lista 9\n",
      "Um valor foi removido da lista 10\n",
      "Um valor foi removido da lista 11\n",
      "Um valor foi removido da lista 12\n",
      "Um valor foi removido da lista 13\n",
      "Um valor foi removido da lista 14\n",
      "Um valor foi removido da lista 15\n",
      "Um valor foi removido da lista 16\n",
      "Um valor foi removido da lista 17\n",
      "Um valor foi removido da lista 18\n",
      "Um valor foi removido da lista 19\n",
      "Um valor foi removido da lista 20\n",
      "Um valor foi removido da lista 21\n",
      "Um valor foi removido da lista 22\n",
      "Um valor foi removido da lista 23\n",
      "Um valor foi removido da lista 24\n",
      "Um valor foi removido da lista 25\n",
      "Um valor foi removido da lista 26\n",
      "Um valor foi removido da lista 27\n",
      "Um valor foi removido da lista 28\n",
      "Um valor foi removido da lista 29\n",
      "Um valor foi removido da lista 30\n",
      "Um valor foi removido da lista 31\n",
      "Um valor foi removido da lista 32\n",
      "Um valor foi removido da lista 33\n",
      "Um valor foi removido da lista 34\n",
      "Um valor foi removido da lista 35\n",
      "Um valor foi removido da lista 36\n",
      "Um valor foi removido da lista 37\n",
      "Um valor foi removido da lista 38\n",
      "Um valor foi removido da lista 39\n",
      "Um valor foi removido da lista 40\n",
      "Um valor foi removido da lista 41\n",
      "Um valor foi removido da lista 42\n",
      "Um valor foi removido da lista 43\n",
      "Um valor foi removido da lista 44\n",
      "Um valor foi removido da lista 45\n",
      "Um valor foi removido da lista 46\n",
      "Um valor foi removido da lista 47\n",
      "Um valor foi removido da lista 48\n",
      "Um valor foi removido da lista 49\n",
      "Um valor foi removido da lista 50\n",
      "Um valor foi removido da lista 51\n",
      "Um valor foi removido da lista 52\n"
     ]
    }
   ],
   "source": [
    "lista = list(range(1,53))\n",
    "\n",
    "for i in lista:\n",
    "    print(\"Um valor foi removido da lista\", i)\n",
    "    \n",
    "    "
   ]
  }
 ],
 "metadata": {
  "kernelspec": {
   "display_name": "Python 3 (ipykernel)",
   "language": "python",
   "name": "python3"
  },
  "language_info": {
   "codemirror_mode": {
    "name": "ipython",
    "version": 3
   },
   "file_extension": ".py",
   "mimetype": "text/x-python",
   "name": "python",
   "nbconvert_exporter": "python",
   "pygments_lexer": "ipython3",
   "version": "3.11.10"
  }
 },
 "nbformat": 4,
 "nbformat_minor": 5
}
